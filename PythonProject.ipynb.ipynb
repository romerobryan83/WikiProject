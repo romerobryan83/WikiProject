{
 "cells": [
  {
   "cell_type": "code",
   "execution_count": 1,
   "id": "6ad9675f",
   "metadata": {},
   "outputs": [],
   "source": [
    "# import libraries \n",
    "\n",
    "from bs4 import BeautifulSoup\n",
    "import requests\n",
    "import time\n",
    "import datetime\n",
    "\n",
    "import smtplib"
   ]
  },
  {
   "cell_type": "code",
   "execution_count": 3,
   "id": "a529acba",
   "metadata": {},
   "outputs": [
    {
     "name": "stdout",
     "output_type": "stream",
     "text": [
      "The price is: 15.66\n"
     ]
    }
   ],
   "source": [
    "import requests\n",
    "from bs4 import BeautifulSoup\n",
    "\n",
    "# Etsy product page URL\n",
    "url = 'https://www.etsy.com/listing/1408113648/pandora-disney-winnie-the-pooh-charm?click_key=111f9b415d9a276d8e65c8b26f12185672ba6e32%3A1408113648&click_sum=71281f8b&external=1&rec_type=cs&ref=pla_similar_listing_top-6&frs=1'\n",
    "\n",
    "# Send HTTP request to the URL and get the content\n",
    "response = requests.get(url)\n",
    "soup = BeautifulSoup(response.content, 'html.parser')\n",
    "\n",
    "# Find the price element and extract the price\n",
    "price_element = soup.find('span', {'class': 'currency-value'})\n",
    "price = price_element.text.strip()\n",
    "\n",
    "# Print the price\n",
    "print(f\"The price is: {price}\")\n"
   ]
  },
  {
   "cell_type": "code",
   "execution_count": null,
   "id": "cddfa504",
   "metadata": {},
   "outputs": [],
   "source": []
  }
 ],
 "metadata": {
  "kernelspec": {
   "display_name": "Python 3 (ipykernel)",
   "language": "python",
   "name": "python3"
  },
  "language_info": {
   "codemirror_mode": {
    "name": "ipython",
    "version": 3
   },
   "file_extension": ".py",
   "mimetype": "text/x-python",
   "name": "python",
   "nbconvert_exporter": "python",
   "pygments_lexer": "ipython3",
   "version": "3.10.9"
  }
 },
 "nbformat": 4,
 "nbformat_minor": 5
}
